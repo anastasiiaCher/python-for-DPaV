{
  "nbformat": 4,
  "nbformat_minor": 0,
  "metadata": {
    "colab": {
      "provenance": [],
      "toc_visible": true,
      "include_colab_link": true
    },
    "kernelspec": {
      "name": "python3",
      "display_name": "Python 3"
    },
    "language_info": {
      "name": "python"
    }
  },
  "cells": [
    {
      "cell_type": "markdown",
      "metadata": {
        "id": "view-in-github",
        "colab_type": "text"
      },
      "source": [
        "<a href=\"https://colab.research.google.com/github/anastasiiaCher/python-for-DPaV/blob/main/labs/%D0%9B%D0%A02_%D0%91%D0%B0%D0%B7%D0%BE%D0%B2%D1%8B%D0%B5_%D1%81%D0%BF%D0%BE%D1%81%D0%BE%D0%B1%D1%8B_%D0%B2%D0%B8%D0%B7%D1%83%D0%B0%D0%BB%D0%B8%D0%B7%D0%B0%D1%86%D0%B8%D0%B8_%D0%B4%D0%B0%D0%BD%D0%BD%D1%8B%D1%85.ipynb\" target=\"_parent\"><img src=\"https://colab.research.google.com/assets/colab-badge.svg\" alt=\"Open In Colab\"/></a>"
      ]
    },
    {
      "cell_type": "markdown",
      "source": [
        "# Постановка задачи\n"
      ],
      "metadata": {
        "id": "Mx1V6rkZLGNJ"
      }
    },
    {
      "cell_type": "markdown",
      "source": [
        "**Цель работы:** изучение основных способов визуализации табличных данных с помощью модулей `seaborn`, `plotly` и `altair`.\n",
        "\n",
        "**Краткое описание:** в лабораторной работе представлено 10 заданий на построение графиков разных видов. В каждом задании указано, каким видом графика стоит воспользоваться для визуализации данных. По каждому заданию необходимо построить график дважды: первый раз с помощью модуля `seaborn`, второй – с помощью `plotly` или `altair` на выбор студента."
      ],
      "metadata": {
        "id": "BPzgy4tKLP-x"
      }
    },
    {
      "cell_type": "markdown",
      "metadata": {
        "id": "xjvL0IIG8Jd0"
      },
      "source": [
        "# Данные\n"
      ]
    },
    {
      "cell_type": "markdown",
      "metadata": {
        "id": "yaSxXHvxO0qo"
      },
      "source": [
        "В папке [Data/lab2](https://drive.google.com/drive/folders/1e0E4vQzaE9LBZgfzz0AzsyAXgtH0eMaP?usp=share_link) расположена таблица с информацией о песнях, исполненных на Евровидении с 2009 по 2023 год. Все задания лабораторной работы необходимо выполнять по этим данным. Данные в полном объеме можно найти [по ссылке](https://www.kaggle.com/datasets/diamondsnake/eurovision-song-contest-data)."
      ]
    },
    {
      "cell_type": "markdown",
      "source": [
        "##### **Формат данных**\n",
        "\n",
        "```\n",
        "year,country,artist_name,song_name,language,style,gender,main_singers,key,BPM,energy,danceability,happiness,loudness,acousticness,instrumentalness,liveness,speechiness,final_place\n",
        "2023,Norway,Alessandra,Queen of Kings,English,Pop,Female,1,E Minor,110,36,64,23,10 dB,58,0,10,3,5\n",
        "2023,Malta,The Busker,Dance (Our Own Party),English,Pop,Male,1,F Minor,103,78,70,82,6 dB,2,0,18,4,\n",
        "...\n",
        "```\n",
        "##### **Описание полей**\n",
        "\n",
        "- ```year``` – год;\n",
        "- ```country``` – страна участника;\n",
        "- ```artist_name``` – исполнитель;\n",
        "- ```song_name``` – название песни;\n",
        "- ```language``` – язык, на котором исполняется песня;\n",
        "- ```style```\t– жанр;\n",
        "- ```gender``` – пол участника;\n",
        "- ```main_singers``` – количество вокалистов;\n",
        "- ```key```\t– регистр (высота тона);\n",
        "- ```BPM``` – скорость композиции в целом (количество четвертых нот в минуту);\n",
        "- ```energy``` – энергичность композиции;\n",
        "- ```danceability``` – танцевальность (насколько трек подходит для танцев);\n",
        "- ```happiness``` – жизнерадостность;\n",
        "- ```loudness``` – громкость;\n",
        "- ```acousticness``` – акустичность;\n",
        "- ```instrumentalness``` – инструментальность;\n",
        "- ```liveness``` – живость;\n",
        "- ```speechiness``` – насколько много текста;\n",
        "- ```final_place``` – место в фонале."
      ],
      "metadata": {
        "id": "XSwSCVWsNr-W"
      }
    },
    {
      "cell_type": "markdown",
      "metadata": {
        "id": "KSKKDKd2rwlj"
      },
      "source": [
        "# Практические задания"
      ]
    },
    {
      "cell_type": "markdown",
      "metadata": {
        "id": "34z2ONdu-UF0"
      },
      "source": [
        ">По каждому заданию должен быть сделан вывод. Также нужно обязательно добавлять подпись графика и осей."
      ]
    },
    {
      "cell_type": "code",
      "source": [
        "import pandas as pd\n",
        "import numpy as np\n",
        "import matplotlib.pyplot as plt\n",
        "import plotly.express as px\n",
        "import altair as alt\n",
        "import seaborn as sns"
      ],
      "metadata": {
        "id": "JqZ2l5IWi9ln"
      },
      "execution_count": null,
      "outputs": []
    },
    {
      "cell_type": "markdown",
      "source": [
        "## Задание 1"
      ],
      "metadata": {
        "id": "DPWCAfNkIgno"
      }
    },
    {
      "cell_type": "markdown",
      "source": [
        "Проведите предобработку числовых значений в датасете:\n",
        "1. В столбцах `BPM`, `energy`, `danceability`, `happiness`, `acousticness`, `instrumentalness`, `liveness`, `speechiness` замените отсутствующие значения и прочерки на 0.\n",
        "2. В столбце `loudness` оставьте только число без единиц измерения.\n",
        "3. Во всех перечисленных в пунктах 1 и 2 столбцах преобразуйте значения в тип данных `float`."
      ],
      "metadata": {
        "id": "Mk-fFzWWIjQ2"
      }
    },
    {
      "cell_type": "code",
      "metadata": {
        "id": "go6me-4VJD3i"
      },
      "source": [
        "# PUT YOUR CODE HERE"
      ],
      "execution_count": null,
      "outputs": []
    },
    {
      "cell_type": "markdown",
      "metadata": {
        "id": "pjBj8HWkr1nI"
      },
      "source": [
        "## Задание 2"
      ]
    },
    {
      "cell_type": "markdown",
      "metadata": {
        "id": "u3nyqiKmwj2F"
      },
      "source": [
        "Покажите, какие характеристики музыки (`BPM`, `energy`, `danceability`, `happiness`, `acousticness`, `instrumentalness`, `liveness`, `speechiness`) коррелируют между собой. Для визуализации используйте диаграмму `heatmap`."
      ]
    },
    {
      "cell_type": "code",
      "metadata": {
        "id": "QN6HDuT9rtVz"
      },
      "source": [
        "# PUT YOUR CODE HERE"
      ],
      "execution_count": null,
      "outputs": []
    },
    {
      "cell_type": "markdown",
      "metadata": {
        "id": "OmYI6aKGwrKr"
      },
      "source": [
        "## Задание 3"
      ]
    },
    {
      "cell_type": "markdown",
      "metadata": {
        "id": "xxCTsL5KwrKs"
      },
      "source": [
        "Покажите на диаграмме разброса взаимосвязь между жизнерадостностью (`happiness`) и энергичностью (`energy`) композиции. Добавьте на диаграмму вспомогательные элементы (отметку средних значений, выбросов) для упрощения интерпретации визуализации.\n",
        "\n"
      ]
    },
    {
      "cell_type": "code",
      "metadata": {
        "id": "T7L1GWN7wrKs"
      },
      "source": [
        "# PUT YOUR CODE HERE"
      ],
      "execution_count": null,
      "outputs": []
    },
    {
      "cell_type": "markdown",
      "metadata": {
        "id": "0ygsFcLSwrTt"
      },
      "source": [
        "## Задание 4"
      ]
    },
    {
      "cell_type": "markdown",
      "metadata": {
        "id": "JT3uJxKuwrTu"
      },
      "source": [
        "Покажите на горизонтальной столбиковой диаграмме распределение количества треков по жанрам. Отсортируйте диаграмму по убыванию количества композиций в жанре. Выделите контрастным цветом жанр, в котором больше всего песен."
      ]
    },
    {
      "cell_type": "code",
      "metadata": {
        "id": "QKHJ85OHwrTu"
      },
      "source": [
        "# PUT YOUR CODE HERE"
      ],
      "execution_count": null,
      "outputs": []
    },
    {
      "cell_type": "markdown",
      "metadata": {
        "id": "zrX_7sX_wrd-"
      },
      "source": [
        "## Задание 5"
      ]
    },
    {
      "cell_type": "markdown",
      "metadata": {
        "id": "-YxfmmMSwrd_"
      },
      "source": [
        "Покажите на круговой диаграмме страны, участники из которых побеждали чаще других, и в каких годах они выигрывали. Диаграмма должна быть одна."
      ]
    },
    {
      "cell_type": "code",
      "metadata": {
        "id": "emEaxEcuwrd_"
      },
      "source": [
        "# PUT YOUR CODE HERE"
      ],
      "execution_count": null,
      "outputs": []
    },
    {
      "cell_type": "markdown",
      "metadata": {
        "id": "xSf_PxzKwrmy"
      },
      "source": [
        "## Задание 6"
      ]
    },
    {
      "cell_type": "markdown",
      "metadata": {
        "id": "XfsIogcJwrmz"
      },
      "source": [
        "На вертикальной столбчатой диаграмме с группировкой покажите количество мужчин и женщин среди участников в каждом году, представленном в датасете."
      ]
    },
    {
      "cell_type": "code",
      "metadata": {
        "id": "_qfk7y5Mwrmz"
      },
      "source": [
        "# PUT YOUR CODE HERE"
      ],
      "execution_count": null,
      "outputs": []
    },
    {
      "cell_type": "markdown",
      "metadata": {
        "id": "CxGr4PzCwrvk"
      },
      "source": [
        "## Задание 7"
      ]
    },
    {
      "cell_type": "markdown",
      "metadata": {
        "id": "40NA2CMZwrvk"
      },
      "source": [
        "Постройте график плотности распределения данных в столбце `danceability` (танцевальность), сгруппированных по категориям жанрам."
      ]
    },
    {
      "cell_type": "code",
      "metadata": {
        "id": "C8mkWk2fwrvl"
      },
      "source": [
        "# PUT YOUR CODE HERE"
      ],
      "execution_count": null,
      "outputs": []
    },
    {
      "cell_type": "markdown",
      "metadata": {
        "id": "oMe9BeZ7wr3n"
      },
      "source": [
        "## Задание 8"
      ]
    },
    {
      "cell_type": "markdown",
      "metadata": {
        "id": "6mSqhSXkwr3o"
      },
      "source": [
        "Покажите на ящиковой диаграмме взяимосвязь позиции в финальном рейтинге со страной. Итоги каких стран похожи между собой?"
      ]
    },
    {
      "cell_type": "code",
      "metadata": {
        "id": "iStdb1ZHwr3o"
      },
      "source": [
        "# PUT YOUR CODE HERE"
      ],
      "execution_count": null,
      "outputs": []
    },
    {
      "cell_type": "markdown",
      "metadata": {
        "id": "lfaVU56rwsJM"
      },
      "source": [
        "## Задание 9"
      ]
    },
    {
      "cell_type": "markdown",
      "metadata": {
        "id": "zEmTU6eDwsJN"
      },
      "source": [
        "Покажите на карте количество раз, когда каждая страна датасета проходила в финал."
      ]
    },
    {
      "cell_type": "code",
      "metadata": {
        "id": "PsGQ39t3wsJN"
      },
      "source": [
        "# PUT YOUR CODE HERE"
      ],
      "execution_count": null,
      "outputs": []
    },
    {
      "cell_type": "markdown",
      "metadata": {
        "id": "hTDDzJsowsSM"
      },
      "source": [
        "## Задание 10"
      ]
    },
    {
      "cell_type": "markdown",
      "metadata": {
        "id": "iKK72qBPwsSN"
      },
      "source": [
        "Покажите на диаграмме вида `treemap`, сколько раз каждая страна входила в топ-3 победителей.\n",
        "\n",
        "*В `seaborn` нет такого типа графика, с помощью этого модуля строить график не нужно.*"
      ]
    },
    {
      "cell_type": "code",
      "metadata": {
        "id": "0vfJY30GwsSN"
      },
      "source": [
        "# PUT YOUR CODE HERE"
      ],
      "execution_count": null,
      "outputs": []
    },
    {
      "cell_type": "markdown",
      "source": [
        "# Порядок защиты работы"
      ],
      "metadata": {
        "id": "kNKi8fn1X0Qa"
      }
    },
    {
      "cell_type": "markdown",
      "source": [
        "**Для защиты работы необходимо:**\n",
        "1. Предоставить результаты выполнения 10 заданий в виде ссылки на Google Colab.\n",
        "2. Выполнить дополнительное задание в процессе сдачи работы. Дополнительное задание представляет собой построение визуализации по данным из лабораторной работы, по сложности аналогичной тем, что требовалось выполнить в рамках работы.\n",
        "\n",
        "**Примеры дополнительных заданий:**\n",
        "1. Покажите на ящиковой диаграмме распределение танцевальности для каждого жанра. Выполните с помощью `seaborn`.\n",
        "2. На круговой диаграмме покажите исполнителей, которые участвовали больше одного раза и какие места они занимали. Выполните с помощью `plotly`.\n",
        "3. Покажите на диаграмме вида `treemap`, сколько раз каждая страна проходила в финал. Выполните с помощью `plotly`."
      ],
      "metadata": {
        "id": "vNArFxJcX8uS"
      }
    },
    {
      "cell_type": "markdown",
      "source": [
        "# Дополнительные материалы"
      ],
      "metadata": {
        "id": "o5oPWAt-Z_s_"
      }
    },
    {
      "cell_type": "markdown",
      "source": [
        "1. seaborn: statistical data visualization [Электронный ресурс]. URL: https://seaborn.pydata.org/ (дата обращения: 01.04.2024).\n",
        "2. Plotly Open Source Graphing Libraries [Электронный ресурс]. URL: https://plotly.com/graphing-libraries/ (дата обращения: 01.04.2024).\n",
        "3. Vega-Altair: Declarative Visualization in Python [Электронный ресурс]. URL: https://altair-viz.github.io/index.html (дата обращения: 01.04.2024)."
      ],
      "metadata": {
        "id": "-MwwS_lTaSGM"
      }
    }
  ]
}